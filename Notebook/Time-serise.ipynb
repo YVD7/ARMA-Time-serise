{
 "cells": [
  {
   "cell_type": "code",
   "execution_count": 1,
   "metadata": {},
   "outputs": [],
   "source": [
    "# import dependencies\n",
    "\n",
    "import numpy as np\n",
    "import pandas as pd\n",
    "import matplotlib.pyplot as plt\n",
    "import seaborn as sns"
   ]
  },
  {
   "cell_type": "code",
   "execution_count": 2,
   "metadata": {},
   "outputs": [
    {
     "data": {
      "text/html": [
       "<div>\n",
       "<style scoped>\n",
       "    .dataframe tbody tr th:only-of-type {\n",
       "        vertical-align: middle;\n",
       "    }\n",
       "\n",
       "    .dataframe tbody tr th {\n",
       "        vertical-align: top;\n",
       "    }\n",
       "\n",
       "    .dataframe thead th {\n",
       "        text-align: right;\n",
       "    }\n",
       "</style>\n",
       "<table border=\"1\" class=\"dataframe\">\n",
       "  <thead>\n",
       "    <tr style=\"text-align: right;\">\n",
       "      <th></th>\n",
       "      <th>Date</th>\n",
       "      <th>Open</th>\n",
       "      <th>High</th>\n",
       "      <th>Low</th>\n",
       "      <th>Close</th>\n",
       "      <th>Adj Close</th>\n",
       "      <th>Volume</th>\n",
       "    </tr>\n",
       "  </thead>\n",
       "  <tbody>\n",
       "    <tr>\n",
       "      <th>0</th>\n",
       "      <td>2022-03-04</td>\n",
       "      <td>16339.450195</td>\n",
       "      <td>16456.000000</td>\n",
       "      <td>16133.799805</td>\n",
       "      <td>16245.349609</td>\n",
       "      <td>16245.349609</td>\n",
       "      <td>456100</td>\n",
       "    </tr>\n",
       "    <tr>\n",
       "      <th>1</th>\n",
       "      <td>2022-03-07</td>\n",
       "      <td>15867.950195</td>\n",
       "      <td>15944.599609</td>\n",
       "      <td>15711.450195</td>\n",
       "      <td>15863.150391</td>\n",
       "      <td>15863.150391</td>\n",
       "      <td>585400</td>\n",
       "    </tr>\n",
       "    <tr>\n",
       "      <th>2</th>\n",
       "      <td>2022-03-08</td>\n",
       "      <td>15747.750000</td>\n",
       "      <td>16028.750000</td>\n",
       "      <td>15671.450195</td>\n",
       "      <td>16013.450195</td>\n",
       "      <td>16013.450195</td>\n",
       "      <td>543600</td>\n",
       "    </tr>\n",
       "    <tr>\n",
       "      <th>3</th>\n",
       "      <td>2022-03-09</td>\n",
       "      <td>16078.000000</td>\n",
       "      <td>16418.050781</td>\n",
       "      <td>15990.000000</td>\n",
       "      <td>16345.349609</td>\n",
       "      <td>16345.349609</td>\n",
       "      <td>462200</td>\n",
       "    </tr>\n",
       "    <tr>\n",
       "      <th>4</th>\n",
       "      <td>2022-03-10</td>\n",
       "      <td>16757.099609</td>\n",
       "      <td>16757.300781</td>\n",
       "      <td>16447.900391</td>\n",
       "      <td>16594.900391</td>\n",
       "      <td>16594.900391</td>\n",
       "      <td>486400</td>\n",
       "    </tr>\n",
       "  </tbody>\n",
       "</table>\n",
       "</div>"
      ],
      "text/plain": [
       "         Date          Open          High           Low         Close  \\\n",
       "0  2022-03-04  16339.450195  16456.000000  16133.799805  16245.349609   \n",
       "1  2022-03-07  15867.950195  15944.599609  15711.450195  15863.150391   \n",
       "2  2022-03-08  15747.750000  16028.750000  15671.450195  16013.450195   \n",
       "3  2022-03-09  16078.000000  16418.050781  15990.000000  16345.349609   \n",
       "4  2022-03-10  16757.099609  16757.300781  16447.900391  16594.900391   \n",
       "\n",
       "      Adj Close  Volume  \n",
       "0  16245.349609  456100  \n",
       "1  15863.150391  585400  \n",
       "2  16013.450195  543600  \n",
       "3  16345.349609  462200  \n",
       "4  16594.900391  486400  "
      ]
     },
     "execution_count": 2,
     "metadata": {},
     "output_type": "execute_result"
    }
   ],
   "source": [
    "# reading dataset\n",
    "\n",
    "df = pd.read_csv(\"/home/yash/project/interview-tasks/ARMA-Time-serise/Dataset/^NSEI.csv\")\n",
    "\n",
    "df.head()"
   ]
  },
  {
   "cell_type": "code",
   "execution_count": 3,
   "metadata": {},
   "outputs": [
    {
     "name": "stdout",
     "output_type": "stream",
     "text": [
      "<class 'pandas.core.frame.DataFrame'>\n",
      "RangeIndex: 250 entries, 0 to 249\n",
      "Data columns (total 7 columns):\n",
      " #   Column     Non-Null Count  Dtype  \n",
      "---  ------     --------------  -----  \n",
      " 0   Date       250 non-null    object \n",
      " 1   Open       250 non-null    float64\n",
      " 2   High       250 non-null    float64\n",
      " 3   Low        250 non-null    float64\n",
      " 4   Close      250 non-null    float64\n",
      " 5   Adj Close  250 non-null    float64\n",
      " 6   Volume     250 non-null    int64  \n",
      "dtypes: float64(5), int64(1), object(1)\n",
      "memory usage: 13.8+ KB\n"
     ]
    }
   ],
   "source": [
    "df.info() # reading info of dataset"
   ]
  },
  {
   "cell_type": "code",
   "execution_count": null,
   "metadata": {},
   "outputs": [],
   "source": []
  }
 ],
 "metadata": {
  "kernelspec": {
   "display_name": "Python 3",
   "language": "python",
   "name": "python3"
  },
  "language_info": {
   "codemirror_mode": {
    "name": "ipython",
    "version": 3
   },
   "file_extension": ".py",
   "mimetype": "text/x-python",
   "name": "python",
   "nbconvert_exporter": "python",
   "pygments_lexer": "ipython3",
   "version": "3.8.0"
  },
  "orig_nbformat": 4
 },
 "nbformat": 4,
 "nbformat_minor": 2
}
